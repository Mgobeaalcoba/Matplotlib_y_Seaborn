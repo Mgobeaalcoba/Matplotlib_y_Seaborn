{
  "nbformat": 4,
  "nbformat_minor": 0,
  "metadata": {
    "colab": {
      "name": "SET.ipynb",
      "provenance": []
    },
    "kernelspec": {
      "name": "python3",
      "display_name": "Python 3"
    },
    "language_info": {
      "name": "python"
    }
  },
  "cells": [
    {
      "cell_type": "markdown",
      "source": [
        "**Ventajas de seaborn: funciona muy bien con pandas así como matplotlib lo hace con numpy. Es muy veloz. Se requier poco codigo para graficar (menos que en matplotlib) y es muy customizable**"
      ],
      "metadata": {
        "id": "wC0a4nYkDPzk"
      }
    },
    {
      "cell_type": "code",
      "source": [
        "import seaborn as sns\n",
        "import matplotlib.pyplot as plt"
      ],
      "metadata": {
        "id": "Q2hOrFHMDe7K"
      },
      "execution_count": 3,
      "outputs": []
    },
    {
      "cell_type": "code",
      "source": [
        "sns.barplot(x=['A','B','C'],y=[1,3,2])\n",
        "plt.show()"
      ],
      "metadata": {
        "colab": {
          "base_uri": "https://localhost:8080/",
          "height": 265
        },
        "id": "7_M9ROrcD3gR",
        "outputId": "3ad08a05-0dfc-4b62-d38e-d1e23081755a"
      },
      "execution_count": 4,
      "outputs": [
        {
          "output_type": "display_data",
          "data": {
            "text/plain": [
              "<Figure size 432x288 with 1 Axes>"
            ],
            "image/png": "[encoded data removed]"
          },
          "metadata": {
            "needs_background": "light"
          }
        }
      ]
    },
    {
      "cell_type": "code",
      "source": [
        "sns.set(style='dark', palette='dark', font='Verdana', font_scale=2) # Puedo setear desde .set los estilos, paletas de colores, fuentes y tamaño de las fuentes\n",
        "sns.barplot(x=['A','B','C'],y=[1,3,2])\n",
        "plt.show()"
      ],
      "metadata": {
        "colab": {
          "base_uri": "https://localhost:8080/",
          "height": 278
        },
        "id": "uO72utI8Eexx",
        "outputId": "4ed341b5-3bfa-498c-d2a6-dabb278f2d4b"
      },
      "execution_count": 12,
      "outputs": [
        {
          "output_type": "display_data",
          "data": {
            "text/plain": [
              "<Figure size 432x288 with 1 Axes>"
            ],
            "image/png": "[encoded data removed]"
          },
          "metadata": {}
        }
      ]
    }
  ]
}